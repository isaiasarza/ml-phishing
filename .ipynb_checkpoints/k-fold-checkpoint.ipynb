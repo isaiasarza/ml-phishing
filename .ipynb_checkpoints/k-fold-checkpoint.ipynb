{
 "cells": [
  {
   "cell_type": "code",
   "execution_count": 1,
   "id": "7ffea98c",
   "metadata": {},
   "outputs": [],
   "source": [
    "# To perform operations on dataset\n",
    "import random as rand\n",
    "import pandas as pd\n",
    "\n",
    "import numpy as np\n",
    "import pathlib\n",
    "\n",
    "\n",
    "# Machine learning model\n",
    "\n",
    "from sklearn.model_selection import train_test_split\n",
    "\n",
    "from sklearn.tree import DecisionTreeClassifier\n",
    "\n",
    "\n",
    "\n",
    "# Visualization\n",
    "\n",
    "from sklearn import metrics\n",
    "\n",
    "from sklearn.metrics import confusion_matrix\n",
    "\n",
    "import matplotlib.pyplot as plt\n",
    "\n",
    "import seaborn as sns\n",
    "\n",
    "from sklearn.tree import export_graphviz\n",
    "\n",
    "from sklearn.feature_selection import SelectKBest\n",
    "from sklearn.feature_selection import chi2\n",
    "from sklearn.model_selection import cross_val_score,cross_val_predict\n",
    "from sklearn.linear_model import LogisticRegression\n",
    "from sklearn.tree import DecisionTreeClassifier\n",
    "from sklearn.svm import SVC\n",
    "from sklearn.ensemble import RandomForestClassifier\n",
    "from sklearn.ensemble import ExtraTreesClassifier\n",
    "import matplotlib.pyplot as plt\n",
    "n = 4\n",
    "file_name = 'dataset_'+ str(n) + '.csv'\n",
    "dataset_path = './dataset/' + file_name\n",
    "\n",
    "models = [\n",
    "    {\"model\": LogisticRegression(max_iter=10000),\"name\":\"LogisticRegression\"},\n",
    "    {\"model\": DecisionTreeClassifier(),\"name\":\"DecisionTreeClassifier\"},   \n",
    "    {\"model\":RandomForestClassifier(),\"name\":\"RandomForestClassifier\"}\n",
    "]\n",
    "\n",
    "scores = []\n",
    "\n",
    "\n",
    "common_features = ['pop_up_window','using_ip_address','at_symbol','favicon','iframe','submit_info_email','double_slash']\n",
    "\n",
    "#READ dataset\n",
    "\n",
    "\n",
    "df = pd.read_csv(dataset_path)"
   ]
  },
  {
   "cell_type": "code",
   "execution_count": 2,
   "id": "c84954a4",
   "metadata": {},
   "outputs": [],
   "source": [
    "### Obtiene las mejores 'n' features de un dataset, utilizando el método 'feature importance'\n",
    "def get_best_features(X, y, n):\n",
    "    model = ExtraTreesClassifier()\n",
    "    model.fit(X,y)\n",
    "    feat_importances = pd.Series(model.feature_importances_, index=X.columns)\n",
    "    return feat_importances.nlargest(n);\n",
    "### Ejecuta el método 'cross_val_score' con un array de modelos\n",
    "def run_cross_val_score(models, lX, ly, k):\n",
    "    _scores = []\n",
    "    for model in models:\n",
    "        score = cross_val_score(model['model'], lX, ly,cv=k)\n",
    "        print(\"model_name\", model[\"name\"],\"avg\", np.average(score),\"std\",np.std(score))\n",
    "        _scores.append({\"model_name\":model[\"name\"],\"avg\": np.average(score),\"std\":np.std(score)})\n",
    "    return _scores;\n",
    "\n",
    "### Ejecuta el método 'cross_val_predict' con un array de modelos\n",
    "def run_cross_val_predict(models, lX, ly, k):\n",
    "    _predictions = []\n",
    "    for model in models:\n",
    "        predictions = cross_val_predict(model['model'], lX, ly, cv=k)\n",
    "        accuracy = metrics.r2_score(ly, predictions)\n",
    "        plt.scatter(ly, predictions)\n",
    "        #score = cross_val_score(model['model'], lX, ly,cv=10)\n",
    "        print(\"model_name\", model[\"name\"],\"accuracy\", accuracy)\n",
    "        _predictions.append({\"model_name\":model[\"name\"],\"accuracy\": accuracy})\n",
    "    return _predictions;"
   ]
  },
  {
   "cell_type": "code",
   "execution_count": 3,
   "id": "4da10afc",
   "metadata": {},
   "outputs": [
    {
     "data": {
      "image/png": "[encoded data removed]",
      "text/plain": [
       "<Figure size 432x288 with 1 Axes>"
      ]
     },
     "metadata": {
      "needs_background": "light"
     },
     "output_type": "display_data"
    }
   ],
   "source": [
    "# feature selection, using feature importance\n",
    "\n",
    "#number of features, without 'id' & 'result'\n",
    "c = len(df.columns) - 2\n",
    "\n",
    "X = df[common_features]  #independent common columns\n",
    "y = df.iloc[:,-1]    #target column i.e price range\n",
    "\n",
    "X_train, X_test, y_train, y_test = train_test_split(df, y, test_size=0.2)\n",
    "X_train_common_features = X_train[common_features]\n",
    "\n",
    "feat_importances = get_best_features(X, y, 5)\n",
    "feat_importances.plot(kind='barh')\n",
    "plt.show()\n",
    "X_train_best_features = X_train[feat_importances.index.to_numpy()]\n",
    "\n",
    "X_test_best_features = X_test[feat_importances.index.to_numpy()]"
   ]
  },
  {
   "cell_type": "code",
   "execution_count": 4,
   "id": "94e18653",
   "metadata": {},
   "outputs": [
    {
     "name": "stdout",
     "output_type": "stream",
     "text": [
      "model_name LogisticRegression avg 1.0 std 0.0\n",
      "model_name DecisionTreeClassifier avg 1.0 std 0.0\n",
      "model_name RandomForestClassifier avg 1.0 std 0.0\n"
     ]
    }
   ],
   "source": [
    "# obtiene el scoring sobre el conjunto de datos de entrenamiento\n",
    "scores = np.concatenate((scores, run_cross_val_score(models, X_train, y_train, 10)))"
   ]
  },
  {
   "cell_type": "code",
   "execution_count": 5,
   "id": "04b7cfc3",
   "metadata": {},
   "outputs": [
    {
     "name": "stdout",
     "output_type": "stream",
     "text": [
      "model_name LogisticRegression avg 0.5870593348160645 std 0.020656457435771273\n",
      "model_name DecisionTreeClassifier avg 0.6256167395250147 std 0.019851125454165577\n",
      "model_name RandomForestClassifier avg 0.6248248843213948 std 0.021085057671674425\n"
     ]
    }
   ],
   "source": [
    "# obtiene el scoring sobre el conjunto de datos de entrenamiento, teniendo en cuenta solo las features en común encontradas\n",
    "scores = np.concatenate((scores, run_cross_val_score(models, X_train_common_features, y_train, 10)))"
   ]
  },
  {
   "cell_type": "code",
   "execution_count": 6,
   "id": "00da8bc0",
   "metadata": {},
   "outputs": [
    {
     "name": "stdout",
     "output_type": "stream",
     "text": [
      "model_name LogisticRegression avg 0.588530178694685 std 0.019514178329891878\n",
      "model_name DecisionTreeClassifier avg 0.6175883886801135 std 0.019030346024027325\n",
      "model_name RandomForestClassifier avg 0.6182671217117877 std 0.019655598579110083\n"
     ]
    }
   ],
   "source": [
    "# obtiene el scoring sobre el conjunto de datos de entrenamiento, teniendo en cuenta solo las mejores features obtenidas\n",
    "scores = np.concatenate((scores, run_cross_val_score(models, X_train_best_features, y_train, 10)))"
   ]
  },
  {
   "cell_type": "code",
   "execution_count": 7,
   "id": "9538fe2d",
   "metadata": {},
   "outputs": [
    {
     "name": "stdout",
     "output_type": "stream",
     "text": [
      "model_name LogisticRegression accuracy -0.67999682851168\n",
      "model_name DecisionTreeClassifier accuracy -0.5302579807530303\n",
      "model_name RandomForestClassifier accuracy -0.5302579807530303\n"
     ]
    },
    {
     "data": {
      "image/png": "[encoded data removed]",
      "text/plain": [
       "<Figure size 432x288 with 1 Axes>"
      ]
     },
     "metadata": {
      "needs_background": "light"
     },
     "output_type": "display_data"
    }
   ],
   "source": [
    "# realiza una predicción sobre el conjunto de datos de test, teniendo en cuenta solo las mejores features obtenidas\n",
    "predictions = run_cross_val_predict(models,X_test_best_features,y_test,10)"
   ]
  },
  {
   "cell_type": "code",
   "execution_count": null,
   "id": "1b50d5fe",
   "metadata": {},
   "outputs": [],
   "source": []
  }
 ],
 "metadata": {
  "kernelspec": {
   "display_name": "Python 3",
   "language": "python",
   "name": "python3"
  },
  "language_info": {
   "codemirror_mode": {
    "name": "ipython",
    "version": 3
   },
   "file_extension": ".py",
   "mimetype": "text/x-python",
   "name": "python",
   "nbconvert_exporter": "python",
   "pygments_lexer": "ipython3",
   "version": "3.8.8"
  }
 },
 "nbformat": 4,
 "nbformat_minor": 5
}
