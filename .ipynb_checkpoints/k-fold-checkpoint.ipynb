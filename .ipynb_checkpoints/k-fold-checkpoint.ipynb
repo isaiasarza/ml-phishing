{
 "cells": [
  {
   "cell_type": "code",
   "execution_count": 14,
   "id": "7ffea98c",
   "metadata": {},
   "outputs": [
    {
     "data": {
      "text/html": [
       "<div>\n",
       "<style scoped>\n",
       "    .dataframe tbody tr th:only-of-type {\n",
       "        vertical-align: middle;\n",
       "    }\n",
       "\n",
       "    .dataframe tbody tr th {\n",
       "        vertical-align: top;\n",
       "    }\n",
       "\n",
       "    .dataframe thead th {\n",
       "        text-align: right;\n",
       "    }\n",
       "</style>\n",
       "<table border=\"1\" class=\"dataframe\">\n",
       "  <thead>\n",
       "    <tr style=\"text-align: right;\">\n",
       "      <th></th>\n",
       "      <th>id</th>\n",
       "      <th>using_ip_address</th>\n",
       "      <th>URLURL_Length</th>\n",
       "      <th>Shortining_Service</th>\n",
       "      <th>at_symbol</th>\n",
       "      <th>double_slash</th>\n",
       "      <th>Prefix_Suffix</th>\n",
       "      <th>having_Sub_Domain</th>\n",
       "      <th>SSLfinal_State</th>\n",
       "      <th>Domain_registeration_length</th>\n",
       "      <th>...</th>\n",
       "      <th>pop_up_window</th>\n",
       "      <th>iframe</th>\n",
       "      <th>age_of_domain</th>\n",
       "      <th>DNSRecord</th>\n",
       "      <th>web_traffic</th>\n",
       "      <th>Page_Rank</th>\n",
       "      <th>Google_Index</th>\n",
       "      <th>Links_pointing_to_page</th>\n",
       "      <th>Statistical_report</th>\n",
       "      <th>Result</th>\n",
       "    </tr>\n",
       "  </thead>\n",
       "  <tbody>\n",
       "    <tr>\n",
       "      <th>0</th>\n",
       "      <td>1</td>\n",
       "      <td>-1</td>\n",
       "      <td>1</td>\n",
       "      <td>1</td>\n",
       "      <td>1</td>\n",
       "      <td>-1</td>\n",
       "      <td>-1</td>\n",
       "      <td>-1</td>\n",
       "      <td>-1</td>\n",
       "      <td>-1</td>\n",
       "      <td>...</td>\n",
       "      <td>1</td>\n",
       "      <td>1</td>\n",
       "      <td>-1</td>\n",
       "      <td>-1</td>\n",
       "      <td>-1</td>\n",
       "      <td>-1</td>\n",
       "      <td>1</td>\n",
       "      <td>1</td>\n",
       "      <td>-1</td>\n",
       "      <td>-1</td>\n",
       "    </tr>\n",
       "    <tr>\n",
       "      <th>1</th>\n",
       "      <td>2</td>\n",
       "      <td>1</td>\n",
       "      <td>1</td>\n",
       "      <td>1</td>\n",
       "      <td>1</td>\n",
       "      <td>1</td>\n",
       "      <td>-1</td>\n",
       "      <td>0</td>\n",
       "      <td>1</td>\n",
       "      <td>-1</td>\n",
       "      <td>...</td>\n",
       "      <td>1</td>\n",
       "      <td>1</td>\n",
       "      <td>-1</td>\n",
       "      <td>-1</td>\n",
       "      <td>0</td>\n",
       "      <td>-1</td>\n",
       "      <td>1</td>\n",
       "      <td>1</td>\n",
       "      <td>1</td>\n",
       "      <td>-1</td>\n",
       "    </tr>\n",
       "    <tr>\n",
       "      <th>2</th>\n",
       "      <td>3</td>\n",
       "      <td>1</td>\n",
       "      <td>0</td>\n",
       "      <td>1</td>\n",
       "      <td>1</td>\n",
       "      <td>1</td>\n",
       "      <td>-1</td>\n",
       "      <td>-1</td>\n",
       "      <td>-1</td>\n",
       "      <td>-1</td>\n",
       "      <td>...</td>\n",
       "      <td>1</td>\n",
       "      <td>1</td>\n",
       "      <td>1</td>\n",
       "      <td>-1</td>\n",
       "      <td>1</td>\n",
       "      <td>-1</td>\n",
       "      <td>1</td>\n",
       "      <td>0</td>\n",
       "      <td>-1</td>\n",
       "      <td>-1</td>\n",
       "    </tr>\n",
       "    <tr>\n",
       "      <th>3</th>\n",
       "      <td>4</td>\n",
       "      <td>1</td>\n",
       "      <td>0</td>\n",
       "      <td>1</td>\n",
       "      <td>1</td>\n",
       "      <td>1</td>\n",
       "      <td>-1</td>\n",
       "      <td>-1</td>\n",
       "      <td>-1</td>\n",
       "      <td>1</td>\n",
       "      <td>...</td>\n",
       "      <td>1</td>\n",
       "      <td>1</td>\n",
       "      <td>-1</td>\n",
       "      <td>-1</td>\n",
       "      <td>1</td>\n",
       "      <td>-1</td>\n",
       "      <td>1</td>\n",
       "      <td>-1</td>\n",
       "      <td>1</td>\n",
       "      <td>-1</td>\n",
       "    </tr>\n",
       "    <tr>\n",
       "      <th>4</th>\n",
       "      <td>5</td>\n",
       "      <td>1</td>\n",
       "      <td>0</td>\n",
       "      <td>-1</td>\n",
       "      <td>1</td>\n",
       "      <td>1</td>\n",
       "      <td>-1</td>\n",
       "      <td>1</td>\n",
       "      <td>1</td>\n",
       "      <td>-1</td>\n",
       "      <td>...</td>\n",
       "      <td>-1</td>\n",
       "      <td>1</td>\n",
       "      <td>-1</td>\n",
       "      <td>-1</td>\n",
       "      <td>0</td>\n",
       "      <td>-1</td>\n",
       "      <td>1</td>\n",
       "      <td>1</td>\n",
       "      <td>1</td>\n",
       "      <td>1</td>\n",
       "    </tr>\n",
       "  </tbody>\n",
       "</table>\n",
       "<p>5 rows × 32 columns</p>\n",
       "</div>"
      ],
      "text/plain": [
       "   id  using_ip_address  URLURL_Length  Shortining_Service  at_symbol  \\\n",
       "0   1                -1              1                   1          1   \n",
       "1   2                 1              1                   1          1   \n",
       "2   3                 1              0                   1          1   \n",
       "3   4                 1              0                   1          1   \n",
       "4   5                 1              0                  -1          1   \n",
       "\n",
       "   double_slash  Prefix_Suffix  having_Sub_Domain  SSLfinal_State  \\\n",
       "0            -1             -1                 -1              -1   \n",
       "1             1             -1                  0               1   \n",
       "2             1             -1                 -1              -1   \n",
       "3             1             -1                 -1              -1   \n",
       "4             1             -1                  1               1   \n",
       "\n",
       "   Domain_registeration_length  ...  pop_up_window  iframe  age_of_domain  \\\n",
       "0                           -1  ...              1       1             -1   \n",
       "1                           -1  ...              1       1             -1   \n",
       "2                           -1  ...              1       1              1   \n",
       "3                            1  ...              1       1             -1   \n",
       "4                           -1  ...             -1       1             -1   \n",
       "\n",
       "   DNSRecord  web_traffic  Page_Rank  Google_Index  Links_pointing_to_page  \\\n",
       "0         -1           -1         -1             1                       1   \n",
       "1         -1            0         -1             1                       1   \n",
       "2         -1            1         -1             1                       0   \n",
       "3         -1            1         -1             1                      -1   \n",
       "4         -1            0         -1             1                       1   \n",
       "\n",
       "   Statistical_report  Result  \n",
       "0                  -1      -1  \n",
       "1                   1      -1  \n",
       "2                  -1      -1  \n",
       "3                   1      -1  \n",
       "4                   1       1  \n",
       "\n",
       "[5 rows x 32 columns]"
      ]
     },
     "execution_count": 14,
     "metadata": {},
     "output_type": "execute_result"
    }
   ],
   "source": [
    "# To perform operations on dataset\n",
    "import random as rand\n",
    "import pandas as pd\n",
    "\n",
    "import numpy as np\n",
    "import pathlib\n",
    "\n",
    "\n",
    "# Machine learning model\n",
    "\n",
    "from sklearn.model_selection import train_test_split\n",
    "\n",
    "from sklearn.tree import DecisionTreeClassifier\n",
    "\n",
    "\n",
    "\n",
    "# Visualization\n",
    "\n",
    "from sklearn import metrics\n",
    "\n",
    "from sklearn.metrics import confusion_matrix\n",
    "\n",
    "import matplotlib.pyplot as plt\n",
    "\n",
    "import seaborn as sns\n",
    "\n",
    "from sklearn.tree import export_graphviz\n",
    "\n",
    "from sklearn.feature_selection import SelectKBest\n",
    "from sklearn.feature_selection import chi2\n",
    "from sklearn.model_selection import cross_val_score,cross_val_predict\n",
    "from sklearn.linear_model import LogisticRegression\n",
    "from sklearn.tree import DecisionTreeClassifier\n",
    "from sklearn.svm import SVC\n",
    "from sklearn.ensemble import RandomForestClassifier\n",
    "from sklearn.ensemble import ExtraTreesClassifier\n",
    "import matplotlib.pyplot as plt\n",
    "n = 4\n",
    "file_name = 'dataset_'+ str(n) + '.csv'\n",
    "dataset_path = './dataset/' + file_name\n",
    "\n",
    "models = [\n",
    "    {\"model\": LogisticRegression(max_iter=10000),\"name\":\"LogisticRegression\"},\n",
    "    {\"model\": DecisionTreeClassifier(),\"name\":\"DecisionTreeClassifier\"},   \n",
    "    {\"model\":RandomForestClassifier(),\"name\":\"RandomForestClassifier\"}\n",
    "]\n",
    "\n",
    "scores = []\n",
    "\n",
    "\n",
    "common_features = ['pop_up_window','using_ip_address','at_symbol','favicon','iframe','submit_info_email','double_slash']\n",
    "\n",
    "#READ dataset\n",
    "\n",
    "\n",
    "df = pd.read_csv(dataset_path)\n",
    "df.head()"
   ]
  },
  {
   "cell_type": "code",
   "execution_count": 15,
   "id": "c84954a4",
   "metadata": {},
   "outputs": [],
   "source": [
    "### Obtiene las mejores 'n' features de un dataset, utilizando el método 'feature importance'\n",
    "def get_best_features(X, y, n):\n",
    "    model = ExtraTreesClassifier()\n",
    "    model.fit(X,y)\n",
    "    feat_importances = pd.Series(model.feature_importances_, index=X.columns)\n",
    "    return feat_importances.nlargest(n);\n",
    "### Ejecuta el método 'cross_val_score' con un array de modelos\n",
    "def run_cross_val_score(models, lX, ly, k):\n",
    "    _scores = []\n",
    "    for model in models:\n",
    "        score = cross_val_score(model['model'], lX, ly,cv=k)\n",
    "        print(\"model_name\", model[\"name\"],\"avg\", np.average(score),\"std\",np.std(score))\n",
    "        _scores.append({\"model_name\":model[\"name\"],\"avg\": np.average(score),\"std\":np.std(score)})\n",
    "    return _scores;\n",
    "\n",
    "### Ejecuta el método 'cross_val_predict' con un array de modelos\n",
    "def run_cross_val_predict(models, lX, ly, k):\n",
    "    _predictions = []\n",
    "    for model in models:\n",
    "        predictions = cross_val_predict(model['model'], lX, ly, cv=k)\n",
    "        accuracy = metrics.r2_score(ly, predictions)\n",
    "        plt.scatter(ly, predictions)\n",
    "        #score = cross_val_score(model['model'], lX, ly,cv=10)\n",
    "        print(\"model_name\", model[\"name\"],\"accuracy\", accuracy)\n",
    "        _predictions.append({\"model_name\":model[\"name\"],\"accuracy\": accuracy})\n",
    "    return _predictions;\n",
    "\n",
    "def run_predict(models, X_test, y_test):\n",
    "    _predictions = []\n",
    "    for model in models:\n",
    "        y_pred = model[\"model\"].predict(X_test)\n",
    "        score = model[\"model\"].score(X_test, y_test)\n",
    "        print('Accuracy of logistic regression classifier on test set: {:.2f}'.format(score))\n",
    "        _predictions.append({\"model_name\":model[\"name\"],\"score\": score})\n",
    "    return _predictions;"
   ]
  },
  {
   "cell_type": "code",
   "execution_count": 16,
   "id": "4da10afc",
   "metadata": {},
   "outputs": [
    {
     "data": {
      "image/png": "[encoded data removed]",
      "text/plain": [
       "<Figure size 432x288 with 1 Axes>"
      ]
     },
     "metadata": {
      "needs_background": "light"
     },
     "output_type": "display_data"
    }
   ],
   "source": [
    "# feature selection, using feature importance\n",
    "\n",
    "#number of features, without 'id' & 'result'\n",
    "c = len(df.columns) - 2\n",
    "\n",
    "X = df[common_features]  #independent common columns\n",
    "y = df.iloc[:,-1]    #target column i.e price range\n",
    "\n",
    "X_train, X_test, y_train, y_test = train_test_split(df, y, test_size=0.2)\n",
    "X_train_common_features = X_train[common_features]\n",
    "\n",
    "feat_importances = get_best_features(X, y, 5)\n",
    "feat_importances.plot(kind='barh')\n",
    "plt.show()\n",
    "X_train_best_features = X_train[feat_importances.index.to_numpy()]\n",
    "\n",
    "X_test_best_features = X_test[feat_importances.index.to_numpy()]"
   ]
  },
  {
   "cell_type": "code",
   "execution_count": 17,
   "id": "94e18653",
   "metadata": {},
   "outputs": [
    {
     "name": "stdout",
     "output_type": "stream",
     "text": [
      "SSLfinal_State                 0.313309\n",
      "URL_of_Anchor                  0.216740\n",
      "web_traffic                    0.067419\n",
      "having_Sub_Domain              0.057710\n",
      "Prefix_Suffix                  0.050182\n",
      "id                             0.045323\n",
      "Links_in_tags                  0.038183\n",
      "Request_URL                    0.022433\n",
      "SFH                            0.021583\n",
      "Domain_registeration_length    0.018262\n",
      "Links_pointing_to_page         0.017150\n",
      "age_of_domain                  0.015921\n",
      "using_ip_address               0.013104\n",
      "Page_Rank                      0.012191\n",
      "Google_Index                   0.012146\n",
      "DNSRecord                      0.011489\n",
      "URLURL_Length                  0.008459\n",
      "HTTPS_token                    0.006472\n",
      "pop_up_window                  0.005795\n",
      "submit_info_email              0.005624\n",
      "Redirect                       0.005524\n",
      "Shortining_Service             0.005249\n",
      "at_symbol                      0.005036\n",
      "Abnormal_URL                   0.004931\n",
      "on_mouseover                   0.004473\n",
      "double_slash                   0.004200\n",
      "favicon                        0.003983\n",
      "port                           0.002915\n",
      "iframe                         0.002589\n",
      "RightClick                     0.001604\n",
      "dtype: float64\n"
     ]
    }
   ],
   "source": [
    "# obtiene el scoring sobre el conjunto de datos de entrenamiento\n",
    "#scores = np.concatenate((scores, run_cross_val_score(models, X_train, y_train, 10)))\n",
    "\n",
    "feat_importances = get_best_features(df.iloc[:,:c], df.iloc[:,-1], c)\n",
    "print(feat_importances)\n",
    "#feat_importances.plot(kind='barh')\n",
    "#plt.show()"
   ]
  },
  {
   "cell_type": "code",
   "execution_count": 5,
   "id": "04b7cfc3",
   "metadata": {},
   "outputs": [
    {
     "name": "stdout",
     "output_type": "stream",
     "text": [
      "model_name LogisticRegression avg 0.5849129534473503 std 0.0118373676558466\n",
      "model_name DecisionTreeClassifier avg 0.6195142776797811 std 0.012392222003356507\n",
      "model_name RandomForestClassifier avg 0.6191746555206177 std 0.013102146941207987\n"
     ]
    }
   ],
   "source": [
    "# obtiene el scoring sobre el conjunto de datos de entrenamiento, teniendo en cuenta solo las features en común encontradas\n",
    "scores = np.concatenate((scores, run_cross_val_score(models, X_train_common_features, y_train, 10)))"
   ]
  },
  {
   "cell_type": "code",
   "execution_count": 6,
   "id": "00da8bc0",
   "metadata": {},
   "outputs": [
    {
     "name": "stdout",
     "output_type": "stream",
     "text": [
      "model_name LogisticRegression avg 0.585140092542884 std 0.011451562214693461\n",
      "model_name DecisionTreeClassifier avg 0.6181570672597592 std 0.012087536057379847\n",
      "model_name RandomForestClassifier avg 0.6181570672597592 std 0.011830728953082976\n"
     ]
    }
   ],
   "source": [
    "# obtiene el scoring sobre el conjunto de datos de entrenamiento, teniendo en cuenta solo las mejores features obtenidas\n",
    "scores = np.concatenate((scores, run_cross_val_score(models, X_train_best_features, y_train, 10)))"
   ]
  },
  {
   "cell_type": "code",
   "execution_count": 8,
   "id": "9538fe2d",
   "metadata": {},
   "outputs": [
    {
     "name": "stdout",
     "output_type": "stream",
     "text": [
      "model_name LogisticRegression accuracy -0.6299184524244863\n",
      "model_name DecisionTreeClassifier accuracy -0.49210122138521184\n",
      "model_name RandomForestClassifier accuracy -0.49761391062678273\n"
     ]
    },
    {
     "data": {
      "image/png": "[encoded data removed]",
      "text/plain": [
       "<Figure size 432x288 with 1 Axes>"
      ]
     },
     "metadata": {
      "needs_background": "light"
     },
     "output_type": "display_data"
    }
   ],
   "source": [
    "# realiza una predicción sobre el conjunto de datos de test, teniendo en cuenta solo las mejores features obtenidas\n",
    "predictions = run_cross_val_predict(models,X_test_best_features,y_test,10)\n",
    "#predictions = run_predict(models,X_test_best_features,y_test)"
   ]
  },
  {
   "cell_type": "code",
   "execution_count": 18,
   "id": "1b50d5fe",
   "metadata": {},
   "outputs": [
    {
     "name": "stdout",
     "output_type": "stream",
     "text": [
      "model_name LogisticRegression accuracy 1.0\n",
      "model_name DecisionTreeClassifier accuracy 1.0\n",
      "model_name RandomForestClassifier accuracy 1.0\n"
     ]
    },
    {
     "data": {
      "image/png": "[encoded data removed]",
      "text/plain": [
       "<Figure size 432x288 with 1 Axes>"
      ]
     },
     "metadata": {
      "needs_background": "light"
     },
     "output_type": "display_data"
    }
   ],
   "source": [
    "predictions = run_cross_val_predict(models,X_test,y_test,10)"
   ]
  },
  {
   "cell_type": "code",
   "execution_count": null,
   "id": "1666534e",
   "metadata": {},
   "outputs": [],
   "source": []
  }
 ],
 "metadata": {
  "kernelspec": {
   "display_name": "Python 3",
   "language": "python",
   "name": "python3"
  },
  "language_info": {
   "codemirror_mode": {
    "name": "ipython",
    "version": 3
   },
   "file_extension": ".py",
   "mimetype": "text/x-python",
   "name": "python",
   "nbconvert_exporter": "python",
   "pygments_lexer": "ipython3",
   "version": "3.8.8"
  }
 },
 "nbformat": 4,
 "nbformat_minor": 5
}
